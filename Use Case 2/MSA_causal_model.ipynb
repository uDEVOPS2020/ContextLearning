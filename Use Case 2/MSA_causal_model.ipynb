{
  "nbformat": 4,
  "nbformat_minor": 0,
  "metadata": {
    "colab": {
      "name": "MSA_causal_model.ipynb",
      "provenance": []
    },
    "kernelspec": {
      "name": "python3",
      "display_name": "Python 3"
    },
    "language_info": {
      "name": "python"
    }
  },
  "cells": [
    {
      "cell_type": "markdown",
      "source": [
        "**uDEVOPS Deliverable 2.2 - use case 2. Causal discovery.**\n",
        "\n"
      ],
      "metadata": {
        "id": "1VoDYwzBKGQu"
      }
    },
    {
      "cell_type": "code",
      "source": [
        "!git clone https://github.com/bd2kccd/py-causal.git"
      ],
      "metadata": {
        "id": "wy4-M8C0gxMZ"
      },
      "execution_count": null,
      "outputs": []
    },
    {
      "cell_type": "markdown",
      "source": [
        "**Requirements - INSTALLATION**"
      ],
      "metadata": {
        "id": "AHQYnaF6KZFc"
      }
    },
    {
      "cell_type": "code",
      "source": [
        "!pip install -U numpy\n",
        "!pip install -U pandas\n",
        "!pip install -U javabridge\n",
        "!pip install -U pydot # optional\n",
        "!pip install -U GraphViz # optional"
      ],
      "metadata": {
        "id": "1DQkp_hwhNjv"
      },
      "execution_count": null,
      "outputs": []
    },
    {
      "cell_type": "markdown",
      "source": [
        "**PyCausal installation**"
      ],
      "metadata": {
        "id": "qLGhP08rKe5i"
      }
    },
    {
      "cell_type": "code",
      "source": [
        "%cd py-causal\n",
        "!python setup.py install"
      ],
      "metadata": {
        "id": "XFw5qPJbhx7P"
      },
      "execution_count": null,
      "outputs": []
    },
    {
      "cell_type": "markdown",
      "source": [
        "**Start using py_causal.**\n",
        "\n",
        "*Remember to load the dataset file (in the example it is MSA_medians_RT located in the \"Use Case 2/dataset\" folder on GitHub) under the py-causal/data. folder*"
      ],
      "metadata": {
        "id": "YpEkbOVdKlGt"
      }
    },
    {
      "cell_type": "code",
      "source": [
        "import pandas as pd\n",
        "######First, upload data into the py-causal/data folder. Hereafter the data in the \"dataset\" folder of the GitHub repo (https://github.com/uDEVOPS2020/ContextLearning) is used. #####\n",
        "data_rca = pd.read_csv('data/MSA_medians_RT.csv')\n",
        "data_rca = data_rca.iloc[:, 0:10]\n",
        "print(data_rca)\n",
        "print(data_rca.describe())"
      ],
      "metadata": {
        "id": "dfZmBjpBiVYq"
      },
      "execution_count": null,
      "outputs": []
    },
    {
      "cell_type": "markdown",
      "source": [
        "**Start the JVM**"
      ],
      "metadata": {
        "id": "U6XAB7GNKvQW"
      }
    },
    {
      "cell_type": "code",
      "source": [
        "%cd src \n",
        "from pycausal.pycausal import pycausal as pc\n",
        "pc = pc()\n",
        "pc.start_vm()"
      ],
      "metadata": {
        "id": "u4PFhck4kGrv",
        "colab": {
          "base_uri": "https://localhost:8080/"
        },
        "outputId": "142722f1-699a-4f99-9751-c018730d3b78"
      },
      "execution_count": null,
      "outputs": [
        {
          "output_type": "stream",
          "name": "stdout",
          "text": [
            "/content/py-causal/src\n"
          ]
        }
      ]
    },
    {
      "cell_type": "markdown",
      "source": [
        "*Add forbidden or required causal links, if any*"
      ],
      "metadata": {
        "id": "oOpsnMJyK0TL"
      }
    },
    {
      "cell_type": "code",
      "source": [
        "from pycausal import prior as p\n",
        "prior = p.knowledge(forbiddirect = [], requiredirect = [], addtemporal = [])"
      ],
      "metadata": {
        "id": "Y_4RtSu8kSfV"
      },
      "execution_count": null,
      "outputs": []
    },
    {
      "cell_type": "markdown",
      "source": [
        "**Load causal algorithms from the py-causal library and Run**"
      ],
      "metadata": {
        "id": "Wo8O1GQyK7Gi"
      }
    },
    {
      "cell_type": "code",
      "source": [
        "from pycausal import search as s\n",
        "tetrad = s.tetradrunner()\n",
        "tetrad.listScores()"
      ],
      "metadata": {
        "id": "UFl57tlgkj-2"
      },
      "execution_count": null,
      "outputs": []
    },
    {
      "cell_type": "markdown",
      "source": [
        "**Run the algorithm**\n",
        "\n",
        "Default is Lingam. Others include FGES, GFCI, RFCI. Uncomment the corresponding lines to run the others, while commenting teh Lingam two lines. "
      ],
      "metadata": {
        "id": "ijCfR_pDK_zx"
      }
    },
    {
      "cell_type": "code",
      "source": [
        "#Default algorithm: Lingam\n",
        "tetrad.getAlgorithmParameters(algoId = 'lingam')\n",
        "tetrad.run(algoId = 'lingam', dfs = data_rca, numberResampling = 5, resamplingEnsemble = 1, addOriginalDataset = True)\n",
        "\n",
        "#To run other algorithms supported by py-causal library, uncomment the corresponding two lines\n",
        "#FGES\n",
        "#tetrad.getAlgorithmParameters(algoId = 'fges', scoreId = 'sem-bic')\n",
        "#tetrad.run(algoId = 'fges', dfs = data_rca, scoreId = 'sem-bic', priorKnowledge = prior, maxDegree = -1, faithfulnessAssumed = True, symmetricFirstStep = True, numberResampling = 5, resamplingEnsemble = 1, addOriginalDataset = True)\n",
        "#GFCI\n",
        "#tetrad.getAlgorithmParameters(algoId = 'gfci', testId = 'fisher-z-test', scoreId = 'sem-bic')\n",
        "#tetrad.run(algoId = 'gfci', dfs = data_rca, testId = 'fisher-z-test', scoreId = 'sem-bic', priorKnowledge = prior, maxDegree = -1, maxPathLength = -1, completeRuleSetUsed = False, faithfulnessAssumed = True, verbose = True, numberResampling = 5, resamplingEnsemble = 1, addOriginalDataset = True)\n",
        "#RFCI\n",
        "#tetrad.getAlgorithmParameters(algoId = 'rfci', testId = 'fisher-z-test')\n",
        "#tetrad.run(algoId = 'rfci', dfs = data_rca, testId = 'fisher-z-test', priorKnowledge = prior, depth = -1, maxPathLength = -1, completeRuleSetUsed = False, faithfulnessAssumed = True, verbose = True, numberResampling = 5, resamplingEnsemble = 1, addOriginalDataset = True)"
      ],
      "metadata": {
        "id": "qtl6-1GLko3x"
      },
      "execution_count": null,
      "outputs": []
    },
    {
      "cell_type": "markdown",
      "source": [
        "**Getting the results in textual form. Node and edges with associated probabilities**"
      ],
      "metadata": {
        "id": "3Em0niugLRFG"
      }
    },
    {
      "cell_type": "code",
      "source": [
        "tetrad.getNodes()\n",
        "tetrad.getEdges()"
      ],
      "metadata": {
        "id": "gxACVeEzoyia"
      },
      "execution_count": null,
      "outputs": []
    },
    {
      "cell_type": "markdown",
      "source": [
        "The output include probabilities for each arc if \"boostrapping\" whenever selected in the parameters (numberResaminig>1). In such a case, you can compare the algorithms by the probability by which they assess the edges (see cell above)."
      ],
      "metadata": {
        "id": "qRh7Ge2_LVa5"
      }
    },
    {
      "cell_type": "markdown",
      "source": [
        "**Getting the results in graphical form.**"
      ],
      "metadata": {
        "id": "K-opYFWsLbWr"
      }
    },
    {
      "cell_type": "code",
      "source": [
        "import pydot\n",
        "from IPython.display import SVG\n",
        "dot_str = pc.tetradGraphToDot(tetrad.getTetradGraph())\n",
        "graphs = pydot.graph_from_dot_data(dot_str)\n",
        "svg_str = graphs[0].create_svg()\n",
        "SVG(svg_str)\n",
        "#Try also to change the parameters to improve confidence (e.g., increasing bootstrap)"
      ],
      "metadata": {
        "id": "DZyIa-ioo7yT",
        "colab": {
          "base_uri": "https://localhost:8080/",
          "height": 1000
        },
        "outputId": "831a345f-b55b-44b9-d041-ddf03a04774c"
      },
      "execution_count": null,
      "outputs": [
        {
          "output_type": "execute_result",
          "data": {
            "text/plain": [
              "<IPython.core.display.SVG object>"
            ],
            "image/svg+xml": "<svg height=\"866pt\" viewBox=\"0.00 0.00 1916.99 866.00\" width=\"1917pt\" xmlns=\"http://www.w3.org/2000/svg\" xmlns:xlink=\"http://www.w3.org/1999/xlink\">\n<g class=\"graph\" id=\"graph0\" transform=\"scale(1 1) rotate(0) translate(4 862)\">\n<title>g</title>\n<polygon fill=\"#ffffff\" points=\"-4,4 -4,-862 1912.9896,-862 1912.9896,4 -4,4\" stroke=\"transparent\"/>\n<!-- contactsservice_median_rt.1 -->\n<g class=\"node\" id=\"node1\">\n<title>contactsservice_median_rt.1</title>\n<ellipse cx=\"1021.9896\" cy=\"-621\" fill=\"none\" rx=\"115.8798\" ry=\"18\" stroke=\"#000000\"/>\n<text fill=\"#000000\" font-family=\"Times,serif\" font-size=\"14.00\" text-anchor=\"middle\" x=\"1021.9896\" y=\"-617.3\">contactsservice_median_rt.1</text>\n</g>\n<!-- foodservice_median_rt -->\n<g class=\"node\" id=\"node2\">\n<title>foodservice_median_rt</title>\n<ellipse cx=\"580.9896\" cy=\"-504\" fill=\"none\" rx=\"96.3833\" ry=\"18\" stroke=\"#000000\"/>\n<text fill=\"#000000\" font-family=\"Times,serif\" font-size=\"14.00\" text-anchor=\"middle\" x=\"580.9896\" y=\"-500.3\">foodservice_median_rt</text>\n</g>\n<!-- contactsservice_median_rt.1&#45;&gt;foodservice_median_rt -->\n<g class=\"edge\" id=\"edge1\">\n<title>contactsservice_median_rt.1-&gt;foodservice_median_rt</title>\n<path d=\"M896.644,-618.7847C775.9347,-615.3643 608.5253,-606.7224 586.9896,-585 570.9066,-568.7775 572.7759,-540.65 576.3171,-522.1811\" fill=\"none\" stroke=\"#000000\"/>\n<polygon fill=\"#000000\" points=\"896.617,-622.2852 906.7093,-619.061 896.8091,-615.2878 896.617,-622.2852\" stroke=\"#000000\"/>\n<text fill=\"#000000\" font-family=\"Courier,monospace\" font-size=\"14.00\" text-anchor=\"middle\" x=\"797.4896\" y=\"-573.8\">contactsservice_median_rt.1 - foodservice_median_rt</text>\n<text fill=\"#000000\" font-family=\"Courier,monospace\" font-size=\"14.00\" text-anchor=\"middle\" x=\"797.4896\" y=\"-558.8\">[&lt;--]:0.5</text>\n<text fill=\"#000000\" font-family=\"Courier,monospace\" font-size=\"14.00\" text-anchor=\"middle\" x=\"797.4896\" y=\"-543.8\">[no edge]:0.5</text>\n</g>\n<!-- travelservice_median_rt -->\n<g class=\"node\" id=\"node5\">\n<title>travelservice_median_rt</title>\n<ellipse cx=\"629.9896\" cy=\"-154.5\" fill=\"none\" rx=\"98.5829\" ry=\"18\" stroke=\"#000000\"/>\n<text fill=\"#000000\" font-family=\"Times,serif\" font-size=\"14.00\" text-anchor=\"middle\" x=\"629.9896\" y=\"-150.8\">travelservice_median_rt</text>\n</g>\n<!-- contactsservice_median_rt.1&#45;&gt;travelservice_median_rt -->\n<g class=\"edge\" id=\"edge12\">\n<title>contactsservice_median_rt.1-&gt;travelservice_median_rt</title>\n<path d=\"M1021.9896,-592.7038C1021.9896,-569.0079 1021.9896,-534.2974 1021.9896,-504 1021.9896,-504 1021.9896,-504 1021.9896,-276 1021.9896,-239.4662 1034.6414,-219.988 1007.9896,-195 987.7674,-176.0402 831.2958,-164.5232 726.1112,-158.8457\" fill=\"none\" stroke=\"#000000\"/>\n<polygon fill=\"#000000\" points=\"1018.4897,-592.7607 1021.9896,-602.7607 1025.4897,-592.7607 1018.4897,-592.7607\" stroke=\"#000000\"/>\n<text fill=\"#000000\" font-family=\"Courier,monospace\" font-size=\"14.00\" text-anchor=\"middle\" x=\"1240.9896\" y=\"-408.8\">contactsservice_median_rt.1 - travelservice_median_rt</text>\n<text fill=\"#000000\" font-family=\"Courier,monospace\" font-size=\"14.00\" text-anchor=\"middle\" x=\"1240.9896\" y=\"-393.8\">[&lt;--]:0.5</text>\n<text fill=\"#000000\" font-family=\"Courier,monospace\" font-size=\"14.00\" text-anchor=\"middle\" x=\"1240.9896\" y=\"-378.8\">[no edge]:0.5</text>\n</g>\n<!-- uidashboard_median_rt -->\n<g class=\"node\" id=\"node8\">\n<title>uidashboard_median_rt</title>\n<ellipse cx=\"629.9896\" cy=\"-18\" fill=\"none\" rx=\"98.5829\" ry=\"18\" stroke=\"#000000\"/>\n<text fill=\"#000000\" font-family=\"Times,serif\" font-size=\"14.00\" text-anchor=\"middle\" x=\"629.9896\" y=\"-14.3\">uidashboard_median_rt</text>\n</g>\n<!-- contactsservice_median_rt.1&#45;&gt;uidashboard_median_rt -->\n<g class=\"edge\" id=\"edge11\">\n<title>contactsservice_median_rt.1-&gt;uidashboard_median_rt</title>\n<path d=\"M1142.0654,-614.4517C1280.1381,-603.554 1487.9896,-575.3069 1487.9896,-504 1487.9896,-504 1487.9896,-504 1487.9896,-154.5 1487.9896,-77.9058 947.8151,-36.9232 724.6766,-23.2613\" fill=\"none\" stroke=\"#000000\"/>\n<polygon fill=\"#000000\" points=\"1141.5375,-610.9818 1131.835,-615.2376 1142.0738,-617.9613 1141.5375,-610.9818\" stroke=\"#000000\"/>\n<text fill=\"#000000\" font-family=\"Courier,monospace\" font-size=\"14.00\" text-anchor=\"middle\" x=\"1698.4896\" y=\"-345.8\">contactsservice_median_rt.1 - uidashboard_median_rt</text>\n<text fill=\"#000000\" font-family=\"Courier,monospace\" font-size=\"14.00\" text-anchor=\"middle\" x=\"1698.4896\" y=\"-330.8\">[&lt;--]:0.8333333333333334</text>\n<text fill=\"#000000\" font-family=\"Courier,monospace\" font-size=\"14.00\" text-anchor=\"middle\" x=\"1698.4896\" y=\"-315.8\">[no edge]:0.16666666666666666</text>\n</g>\n<!-- orderservice_median_rt -->\n<g class=\"node\" id=\"node3\">\n<title>orderservice_median_rt</title>\n<ellipse cx=\"168.9896\" cy=\"-397.5\" fill=\"none\" rx=\"98.2828\" ry=\"18\" stroke=\"#000000\"/>\n<text fill=\"#000000\" font-family=\"Times,serif\" font-size=\"14.00\" text-anchor=\"middle\" x=\"168.9896\" y=\"-393.8\">orderservice_median_rt</text>\n</g>\n<!-- foodservice_median_rt&#45;&gt;orderservice_median_rt -->\n<g class=\"edge\" id=\"edge2\">\n<title>foodservice_median_rt-&gt;orderservice_median_rt</title>\n<path d=\"M475.8732,-500.5833C366.6405,-496.0631 208.5953,-486.4198 186.9896,-468 171.9935,-455.2152 168.5898,-431.8325 168.2189,-415.5156\" fill=\"none\" stroke=\"#000000\"/>\n<polygon fill=\"#000000\" points=\"475.8215,-504.084 485.9551,-500.9918 476.105,-497.0897 475.8215,-504.084\" stroke=\"#000000\"/>\n<text fill=\"#000000\" font-family=\"Courier,monospace\" font-size=\"14.00\" text-anchor=\"middle\" x=\"376.9896\" y=\"-456.8\">foodservice_median_rt - orderservice_median_rt</text>\n<text fill=\"#000000\" font-family=\"Courier,monospace\" font-size=\"14.00\" text-anchor=\"middle\" x=\"376.9896\" y=\"-441.8\">[&lt;--]:1.0</text>\n</g>\n<!-- preserveservice_median_rt -->\n<g class=\"node\" id=\"node7\">\n<title>preserveservice_median_rt</title>\n<ellipse cx=\"580.9896\" cy=\"-276\" fill=\"none\" rx=\"109.381\" ry=\"18\" stroke=\"#000000\"/>\n<text fill=\"#000000\" font-family=\"Times,serif\" font-size=\"14.00\" text-anchor=\"middle\" x=\"580.9896\" y=\"-272.3\">preserveservice_median_rt</text>\n</g>\n<!-- foodservice_median_rt&#45;&gt;preserveservice_median_rt -->\n<g class=\"edge\" id=\"edge8\">\n<title>foodservice_median_rt-&gt;preserveservice_median_rt</title>\n<path d=\"M580.9896,-485.7272C580.9896,-446.0232 580.9896,-351.6466 580.9896,-304.2228\" fill=\"none\" stroke=\"#000000\"/>\n<polygon fill=\"#000000\" points=\"584.4897,-304.0433 580.9896,-294.0433 577.4897,-304.0434 584.4897,-304.0433\" stroke=\"#000000\"/>\n<text fill=\"#000000\" font-family=\"Courier,monospace\" font-size=\"14.00\" text-anchor=\"middle\" x=\"783.4896\" y=\"-408.8\">foodservice_median_rt - preserveservice_median_rt</text>\n<text fill=\"#000000\" font-family=\"Courier,monospace\" font-size=\"14.00\" text-anchor=\"middle\" x=\"783.4896\" y=\"-393.8\">[&lt;--]:0.16666666666666666</text>\n<text fill=\"#000000\" font-family=\"Courier,monospace\" font-size=\"14.00\" text-anchor=\"middle\" x=\"783.4896\" y=\"-378.8\">[--&gt;]:0.8333333333333334</text>\n</g>\n<!-- orderservice_median_rt&#45;&gt;preserveservice_median_rt -->\n<g class=\"edge\" id=\"edge5\">\n<title>orderservice_median_rt-&gt;preserveservice_median_rt</title>\n<path d=\"M158.0896,-379.3596C148.1236,-360.1675 137.2633,-330.1958 153.9896,-312 164.5106,-300.5547 343.3831,-288.7055 466.2438,-281.8608\" fill=\"none\" stroke=\"#000000\"/>\n<polygon fill=\"#000000\" points=\"466.6763,-285.3423 476.4678,-281.2955 466.2898,-278.353 466.6763,-285.3423\" stroke=\"#000000\"/>\n<text fill=\"#000000\" font-family=\"Courier,monospace\" font-size=\"14.00\" text-anchor=\"middle\" x=\"360.4896\" y=\"-345.8\">orderservice_median_rt - preserveservice_median_rt</text>\n<text fill=\"#000000\" font-family=\"Courier,monospace\" font-size=\"14.00\" text-anchor=\"middle\" x=\"360.4896\" y=\"-330.8\">[--&gt;]:0.5</text>\n<text fill=\"#000000\" font-family=\"Courier,monospace\" font-size=\"14.00\" text-anchor=\"middle\" x=\"360.4896\" y=\"-315.8\">[no edge]:0.5</text>\n</g>\n<!-- adminuserservice_median_rt -->\n<g class=\"node\" id=\"node4\">\n<title>adminuserservice_median_rt</title>\n<ellipse cx=\"116.9896\" cy=\"-276\" fill=\"none\" rx=\"116.9792\" ry=\"18\" stroke=\"#000000\"/>\n<text fill=\"#000000\" font-family=\"Times,serif\" font-size=\"14.00\" text-anchor=\"middle\" x=\"116.9896\" y=\"-272.3\">adminuserservice_median_rt</text>\n</g>\n<!-- adminuserservice_median_rt&#45;&gt;travelservice_median_rt -->\n<g class=\"edge\" id=\"edge3\">\n<title>adminuserservice_median_rt-&gt;travelservice_median_rt</title>\n<path d=\"M118.9359,-247.7264C121.7966,-229.5938 128.6669,-207.2334 144.9896,-195 178.1034,-170.1822 475.9178,-182.0544 516.9896,-177 533.6665,-174.9477 551.5654,-171.8197 568.0889,-168.543\" fill=\"none\" stroke=\"#000000\"/>\n<polygon fill=\"#000000\" points=\"115.4435,-247.4481 117.6737,-257.8055 122.3892,-248.3179 115.4435,-247.4481\" stroke=\"#000000\"/>\n<text fill=\"#000000\" font-family=\"Courier,monospace\" font-size=\"14.00\" text-anchor=\"middle\" x=\"359.9896\" y=\"-228.8\">adminuserservice_median_rt - travelservice_median_rt</text>\n<text fill=\"#000000\" font-family=\"Courier,monospace\" font-size=\"14.00\" text-anchor=\"middle\" x=\"359.9896\" y=\"-213.8\">[&lt;--]:0.5</text>\n<text fill=\"#000000\" font-family=\"Courier,monospace\" font-size=\"14.00\" text-anchor=\"middle\" x=\"359.9896\" y=\"-198.8\">[no edge]:0.5</text>\n</g>\n<!-- adminuserservice_median_rt&#45;&gt;uidashboard_median_rt -->\n<g class=\"edge\" id=\"edge6\">\n<title>adminuserservice_median_rt-&gt;uidashboard_median_rt</title>\n<path d=\"M105.4214,-248.1749C94.2797,-216.4435 82.6409,-164.7374 108.9896,-132 161.8191,-66.361 402.8618,-36.4332 537.8003,-24.6158\" fill=\"none\" stroke=\"#000000\"/>\n<polygon fill=\"#000000\" points=\"102.2069,-249.5727 108.9726,-257.726 108.7681,-247.1332 102.2069,-249.5727\" stroke=\"#000000\"/>\n<text fill=\"#000000\" font-family=\"Courier,monospace\" font-size=\"14.00\" text-anchor=\"middle\" x=\"315.4896\" y=\"-165.8\">adminuserservice_median_rt - uidashboard_median_rt</text>\n<text fill=\"#000000\" font-family=\"Courier,monospace\" font-size=\"14.00\" text-anchor=\"middle\" x=\"315.4896\" y=\"-150.8\">[--&gt;]:0.3333333333333333</text>\n<text fill=\"#000000\" font-family=\"Courier,monospace\" font-size=\"14.00\" text-anchor=\"middle\" x=\"315.4896\" y=\"-135.8\">[&lt;--]:0.6666666666666666</text>\n</g>\n<!-- travelservice_median_rt&#45;&gt;uidashboard_median_rt -->\n<g class=\"edge\" id=\"edge7\">\n<title>travelservice_median_rt-&gt;uidashboard_median_rt</title>\n<path d=\"M629.9896,-136.3739C629.9896,-113.3258 629.9896,-73.2811 629.9896,-46.2208\" fill=\"none\" stroke=\"#000000\"/>\n<polygon fill=\"#000000\" points=\"633.4897,-46.2011 629.9896,-36.2011 626.4897,-46.2011 633.4897,-46.2011\" stroke=\"#000000\"/>\n<text fill=\"#000000\" font-family=\"Courier,monospace\" font-size=\"14.00\" text-anchor=\"middle\" x=\"823.9896\" y=\"-102.8\">travelservice_median_rt - uidashboard_median_rt</text>\n<text fill=\"#000000\" font-family=\"Courier,monospace\" font-size=\"14.00\" text-anchor=\"middle\" x=\"823.9896\" y=\"-87.8\">[&lt;--]:0.16666666666666666</text>\n<text fill=\"#000000\" font-family=\"Courier,monospace\" font-size=\"14.00\" text-anchor=\"middle\" x=\"823.9896\" y=\"-72.8\">[--&gt;]:0.6666666666666666</text>\n<text fill=\"#000000\" font-family=\"Courier,monospace\" font-size=\"14.00\" text-anchor=\"middle\" x=\"823.9896\" y=\"-57.8\">[no edge]:0.16666666666666666</text>\n</g>\n<!-- contactsservice_median_rt -->\n<g class=\"node\" id=\"node6\">\n<title>contactsservice_median_rt</title>\n<ellipse cx=\"1021.9896\" cy=\"-723\" fill=\"none\" rx=\"108.5808\" ry=\"18\" stroke=\"#000000\"/>\n<text fill=\"#000000\" font-family=\"Times,serif\" font-size=\"14.00\" text-anchor=\"middle\" x=\"1021.9896\" y=\"-719.3\">contactsservice_median_rt</text>\n</g>\n<!-- contactsservice_median_rt&#45;&gt;contactsservice_median_rt.1 -->\n<g class=\"edge\" id=\"edge4\">\n<title>contactsservice_median_rt-&gt;contactsservice_median_rt.1</title>\n<path d=\"M1021.9896,-694.6541C1021.9896,-676.8717 1021.9896,-654.4776 1021.9896,-639.0777\" fill=\"none\" stroke=\"#000000\"/>\n<polygon fill=\"#000000\" points=\"1018.4897,-694.7644 1021.9896,-704.7644 1025.4897,-694.7645 1018.4897,-694.7644\" stroke=\"#000000\"/>\n<text fill=\"#000000\" font-family=\"Courier,monospace\" font-size=\"14.00\" text-anchor=\"middle\" x=\"1248.9896\" y=\"-675.8\">contactsservice_median_rt - contactsservice_median_rt.1</text>\n<text fill=\"#000000\" font-family=\"Courier,monospace\" font-size=\"14.00\" text-anchor=\"middle\" x=\"1248.9896\" y=\"-660.8\">[&lt;--]:1.0</text>\n</g>\n<!-- preserveservice_median_rt&#45;&gt;travelservice_median_rt -->\n<g class=\"edge\" id=\"edge9\">\n<title>preserveservice_median_rt-&gt;travelservice_median_rt</title>\n<path d=\"M578.7153,-257.995C577.3679,-240.9232 577.4672,-214.986 586.9896,-195 589.7107,-189.2889 593.6172,-183.9786 597.9798,-179.2075\" fill=\"none\" stroke=\"#000000\"/>\n<polygon fill=\"#000000\" points=\"600.4475,-181.6895 605.106,-172.1737 595.5302,-176.7075 600.4475,-181.6895\" stroke=\"#000000\"/>\n<text fill=\"#000000\" font-family=\"Courier,monospace\" font-size=\"14.00\" text-anchor=\"middle\" x=\"797.4896\" y=\"-228.8\">preserveservice_median_rt - travelservice_median_rt</text>\n<text fill=\"#000000\" font-family=\"Courier,monospace\" font-size=\"14.00\" text-anchor=\"middle\" x=\"797.4896\" y=\"-213.8\">[&lt;--]:0.16666666666666666</text>\n<text fill=\"#000000\" font-family=\"Courier,monospace\" font-size=\"14.00\" text-anchor=\"middle\" x=\"797.4896\" y=\"-198.8\">[--&gt;]:0.8333333333333334</text>\n</g>\n<!-- assuranceservice_median_rt -->\n<g class=\"node\" id=\"node9\">\n<title>assuranceservice_median_rt</title>\n<ellipse cx=\"1021.9896\" cy=\"-840\" fill=\"none\" rx=\"113.9803\" ry=\"18\" stroke=\"#000000\"/>\n<text fill=\"#000000\" font-family=\"Times,serif\" font-size=\"14.00\" text-anchor=\"middle\" x=\"1021.9896\" y=\"-836.3\">assuranceservice_median_rt</text>\n</g>\n<!-- assuranceservice_median_rt&#45;&gt;contactsservice_median_rt -->\n<g class=\"edge\" id=\"edge10\">\n<title>assuranceservice_median_rt-&gt;contactsservice_median_rt</title>\n<path d=\"M1021.9896,-811.9267C1021.9896,-789.9961 1021.9896,-760.1601 1021.9896,-741.2381\" fill=\"none\" stroke=\"#000000\"/>\n<polygon fill=\"#000000\" points=\"1018.4897,-811.9751 1021.9896,-821.9752 1025.4897,-811.9752 1018.4897,-811.9751\" stroke=\"#000000\"/>\n<text fill=\"#000000\" font-family=\"Courier,monospace\" font-size=\"14.00\" text-anchor=\"middle\" x=\"1244.9896\" y=\"-792.8\">assuranceservice_median_rt - contactsservice_median_rt</text>\n<text fill=\"#000000\" font-family=\"Courier,monospace\" font-size=\"14.00\" text-anchor=\"middle\" x=\"1244.9896\" y=\"-777.8\">[&lt;--]:0.6666666666666666</text>\n<text fill=\"#000000\" font-family=\"Courier,monospace\" font-size=\"14.00\" text-anchor=\"middle\" x=\"1244.9896\" y=\"-762.8\">[--&gt;]:0.3333333333333333</text>\n</g>\n</g>\n</svg>"
          },
          "metadata": {},
          "execution_count": 12
        }
      ]
    },
    {
      "cell_type": "markdown",
      "source": [
        "**Stop the JVM**"
      ],
      "metadata": {
        "id": "MQygyI83Lds1"
      }
    },
    {
      "cell_type": "code",
      "source": [
        "pc.stop_vm()"
      ],
      "metadata": {
        "id": "bOuI149ho_t9"
      },
      "execution_count": null,
      "outputs": []
    }
  ]
}