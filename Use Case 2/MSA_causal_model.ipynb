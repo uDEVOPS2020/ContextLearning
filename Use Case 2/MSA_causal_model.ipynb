{
  "nbformat": 4,
  "nbformat_minor": 0,
  "metadata": {
    "colab": {
      "name": "MSA_causal_model.ipynb",
      "provenance": []
    },
    "kernelspec": {
      "name": "python3",
      "display_name": "Python 3"
    },
    "language_info": {
      "name": "python"
    }
  },
  "cells": [
    {
      "cell_type": "markdown",
      "source": [
        "**uDEVOPS Deliverable 2.2 - use case 2. Causal discovery.**\n",
        "\n"
      ],
      "metadata": {
        "id": "1VoDYwzBKGQu"
      }
    },
    {
      "cell_type": "code",
      "source": [
        "!git clone https://github.com/bd2kccd/py-causal.git"
      ],
      "metadata": {
        "id": "wy4-M8C0gxMZ"
      },
      "execution_count": null,
      "outputs": []
    },
    {
      "cell_type": "markdown",
      "source": [
        "**Requirements - INSTALLATION**"
      ],
      "metadata": {
        "id": "AHQYnaF6KZFc"
      }
    },
    {
      "cell_type": "code",
      "source": [
        "!pip install -U numpy\n",
        "!pip install -U pandas\n",
        "!pip install -U javabridge\n",
        "!pip install -U pydot # optional\n",
        "!pip install -U GraphViz # optional"
      ],
      "metadata": {
        "id": "1DQkp_hwhNjv"
      },
      "execution_count": null,
      "outputs": []
    },
    {
      "cell_type": "markdown",
      "source": [
        "**PyCausal installation**"
      ],
      "metadata": {
        "id": "qLGhP08rKe5i"
      }
    },
    {
      "cell_type": "code",
      "source": [
        "%cd py-causal\n",
        "!python setup.py install"
      ],
      "metadata": {
        "id": "XFw5qPJbhx7P"
      },
      "execution_count": null,
      "outputs": []
    },
    {
      "cell_type": "markdown",
      "source": [
        "**Start using py_causal.**\n",
        "\n",
        "*Rember to load the data under the py-causal/data. folder*"
      ],
      "metadata": {
        "id": "YpEkbOVdKlGt"
      }
    },
    {
      "cell_type": "code",
      "source": [
        "import pandas as pd\n",
        "######First, upload your data into the data folder#####\n",
        "data_rca = pd.read_csv('data/MSA_medians_RT.csv')\n",
        "data_rca = data_rca.iloc[:, 0:10]\n",
        "print(data_rca)\n",
        "print(data_rca.describe())"
      ],
      "metadata": {
        "id": "dfZmBjpBiVYq"
      },
      "execution_count": null,
      "outputs": []
    },
    {
      "cell_type": "markdown",
      "source": [
        "**Start the JVM**"
      ],
      "metadata": {
        "id": "U6XAB7GNKvQW"
      }
    },
    {
      "cell_type": "code",
      "source": [
        "%cd src \n",
        "from pycausal.pycausal import pycausal as pc\n",
        "pc = pc()\n",
        "pc.start_vm()"
      ],
      "metadata": {
        "id": "u4PFhck4kGrv"
      },
      "execution_count": 4,
      "outputs": []
    },
    {
      "cell_type": "markdown",
      "source": [
        "*Add forbidden or required causal links, if any*"
      ],
      "metadata": {
        "id": "oOpsnMJyK0TL"
      }
    },
    {
      "cell_type": "code",
      "source": [
        "from pycausal import prior as p\n",
        "prior = p.knowledge(forbiddirect = [], requiredirect = [], addtemporal = [])"
      ],
      "metadata": {
        "id": "Y_4RtSu8kSfV"
      },
      "execution_count": 5,
      "outputs": []
    },
    {
      "cell_type": "markdown",
      "source": [
        "**Load causal algorithms from the py-causal library and Run**"
      ],
      "metadata": {
        "id": "Wo8O1GQyK7Gi"
      }
    },
    {
      "cell_type": "code",
      "source": [
        "from pycausal import search as s\n",
        "tetrad = s.tetradrunner()\n",
        "tetrad.listScores()"
      ],
      "metadata": {
        "id": "UFl57tlgkj-2"
      },
      "execution_count": null,
      "outputs": []
    },
    {
      "cell_type": "markdown",
      "source": [
        "**Run the algorithm**\n",
        "\n",
        "Default is Lingam. Others include FGES, GFCI, RFCI. Uncomment the corresponding lines to run the others, while commenting teh Lingam two lines. "
      ],
      "metadata": {
        "id": "ijCfR_pDK_zx"
      }
    },
    {
      "cell_type": "code",
      "source": [
        "#Default algorithm: Lingam\n",
        "tetrad.getAlgorithmParameters(algoId = 'lingam')\n",
        "tetrad.run(algoId = 'lingam', dfs = data_rca, numberResampling = 5, resamplingEnsemble = 1, addOriginalDataset = True)\n",
        "\n",
        "#To run other algorithms supported by py-causal library, uncomment the corresponding two lines\n",
        "#FGES\n",
        "#tetrad.getAlgorithmParameters(algoId = 'fges', scoreId = 'sem-bic')\n",
        "#tetrad.run(algoId = 'fges', dfs = data_rca, scoreId = 'sem-bic', priorKnowledge = prior, maxDegree = -1, faithfulnessAssumed = True, symmetricFirstStep = True, numberResampling = 5, resamplingEnsemble = 1, addOriginalDataset = True)\n",
        "#GFCI\n",
        "#tetrad.getAlgorithmParameters(algoId = 'gfci', testId = 'fisher-z-test', scoreId = 'sem-bic')\n",
        "#tetrad.run(algoId = 'gfci', dfs = data_rca, testId = 'fisher-z-test', scoreId = 'sem-bic', priorKnowledge = prior, maxDegree = -1, maxPathLength = -1, completeRuleSetUsed = False, faithfulnessAssumed = True, verbose = True, numberResampling = 5, resamplingEnsemble = 1, addOriginalDataset = True)\n",
        "#RFCI\n",
        "#tetrad.getAlgorithmParameters(algoId = 'rfci', testId = 'fisher-z-test')\n",
        "#tetrad.run(algoId = 'rfci', dfs = data_rca, testId = 'fisher-z-test', priorKnowledge = prior, depth = -1, maxPathLength = -1, completeRuleSetUsed = False, faithfulnessAssumed = True, verbose = True, numberResampling = 5, resamplingEnsemble = 1, addOriginalDataset = True)"
      ],
      "metadata": {
        "id": "qtl6-1GLko3x"
      },
      "execution_count": null,
      "outputs": []
    },
    {
      "cell_type": "markdown",
      "source": [
        "**Getting the results in textual form. Node and edges with associated probabilities**"
      ],
      "metadata": {
        "id": "3Em0niugLRFG"
      }
    },
    {
      "cell_type": "code",
      "source": [
        "tetrad.getNodes()\n",
        "tetrad.getEdges()"
      ],
      "metadata": {
        "id": "gxACVeEzoyia"
      },
      "execution_count": null,
      "outputs": []
    },
    {
      "cell_type": "markdown",
      "source": [
        "The output include probabilities for each arc if \"boostrapping\" whenever selected in the parameters (numberResaminig>1). In such a case, you can compare the algorithms by the probability by which they assess the edges (see cell above)."
      ],
      "metadata": {
        "id": "qRh7Ge2_LVa5"
      }
    },
    {
      "cell_type": "markdown",
      "source": [
        "**Getting the results in graphical form.**"
      ],
      "metadata": {
        "id": "K-opYFWsLbWr"
      }
    },
    {
      "cell_type": "code",
      "source": [
        "import pydot\n",
        "from IPython.display import SVG\n",
        "dot_str = pc.tetradGraphToDot(tetrad.getTetradGraph())\n",
        "graphs = pydot.graph_from_dot_data(dot_str)\n",
        "svg_str = graphs[0].create_svg()\n",
        "SVG(svg_str)\n",
        "#Try also to change the parameters to improve confidence (e.g., increasing bootstrap)"
      ],
      "metadata": {
        "id": "DZyIa-ioo7yT"
      },
      "execution_count": null,
      "outputs": []
    },
    {
      "cell_type": "markdown",
      "source": [
        "**Stop the JVM**"
      ],
      "metadata": {
        "id": "MQygyI83Lds1"
      }
    },
    {
      "cell_type": "code",
      "source": [
        "pc.stop_vm()"
      ],
      "metadata": {
        "id": "bOuI149ho_t9"
      },
      "execution_count": 19,
      "outputs": []
    }
  ]
}